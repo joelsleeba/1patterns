{
  "nbformat": 4,
  "nbformat_minor": 0,
  "metadata": {
    "colab": {
      "name": "11.ipynb",
      "provenance": [],
      "authorship_tag": "ABX9TyMpPHf+GddfxdY3vtgkLwea",
      "include_colab_link": true
    },
    "kernelspec": {
      "name": "python3",
      "display_name": "Python 3"
    }
  },
  "cells": [
    {
      "cell_type": "markdown",
      "metadata": {
        "id": "view-in-github",
        "colab_type": "text"
      },
      "source": [
        "<a href=\"https://colab.research.google.com/github/joelsleeba1/1patterns/blob/master/Code/11.ipynb\" target=\"_parent\"><img src=\"https://colab.research.google.com/assets/colab-badge.svg\" alt=\"Open In Colab\"/></a>"
      ]
    },
    {
      "cell_type": "code",
      "metadata": {
        "id": "P73JuWu5GV3k",
        "colab_type": "code",
        "colab": {}
      },
      "source": [
        "a = '''08 02 22 97 38 15 00 40 00 75 04 05 07 78 52 12 50 77 91 08\n",
        "49 49 99 40 17 81 18 57 60 87 17 40 98 43 69 48 04 56 62 00\n",
        "81 49 31 73 55 79 14 29 93 71 40 67 53 88 30 03 49 13 36 65\n",
        "52 70 95 23 04 60 11 42 69 24 68 56 01 32 56 71 37 02 36 91\n",
        "22 31 16 71 51 67 63 89 41 92 36 54 22 40 40 28 66 33 13 80\n",
        "24 47 32 60 99 03 45 02 44 75 33 53 78 36 84 20 35 17 12 50\n",
        "32 98 81 28 64 23 67 10 26 38 40 67 59 54 70 66 18 38 64 70\n",
        "67 26 20 68 02 62 12 20 95 63 94 39 63 08 40 91 66 49 94 21\n",
        "24 55 58 05 66 73 99 26 97 17 78 78 96 83 14 88 34 89 63 72\n",
        "21 36 23 09 75 00 76 44 20 45 35 14 00 61 33 97 34 31 33 95\n",
        "78 17 53 28 22 75 31 67 15 94 03 80 04 62 16 14 09 53 56 92\n",
        "16 39 05 42 96 35 31 47 55 58 88 24 00 17 54 24 36 29 85 57\n",
        "86 56 00 48 35 71 89 07 05 44 44 37 44 60 21 58 51 54 17 58\n",
        "19 80 81 68 05 94 47 69 28 73 92 13 86 52 17 77 04 89 55 40\n",
        "04 52 08 83 97 35 99 16 07 97 57 32 16 26 26 79 33 27 98 66\n",
        "88 36 68 87 57 62 20 72 03 46 33 67 46 55 12 32 63 93 53 69\n",
        "04 42 16 73 38 25 39 11 24 94 72 18 08 46 29 32 40 62 76 36\n",
        "20 69 36 41 72 30 23 88 34 62 99 69 82 67 59 85 74 04 36 16\n",
        "20 73 35 29 78 31 90 01 74 31 49 71 48 86 81 16 23 57 05 54\n",
        "01 70 54 71 83 51 54 69 16 92 33 48 61 43 52 01 89 19 67 48'''"
      ],
      "execution_count": 0,
      "outputs": []
    },
    {
      "cell_type": "code",
      "metadata": {
        "id": "NpTwnCdqGc8E",
        "colab_type": "code",
        "colab": {}
      },
      "source": [
        "a_l = list(a.split('\\n'))\n",
        "a_array = []\n",
        "for i in a_l:\n",
        "  a_array.append(list(map(int,i.split(' '))))"
      ],
      "execution_count": 0,
      "outputs": []
    },
    {
      "cell_type": "code",
      "metadata": {
        "id": "aoeDnaqlGhiB",
        "colab_type": "code",
        "colab": {}
      },
      "source": [
        "def right(array, index = [0, 0], max = 0):\n",
        "  if index[0] < 20:\n",
        "    if index[1] < 20:\n",
        "      prd = 1\n",
        "      for i in range(4):\n",
        "        prd *= array[index[0]][(index[1]+i)%20]\n",
        "      if prd > max:\n",
        "        #print(index)\n",
        "        return right(array, [index[0], index[1]+1], prd)\n",
        "      else:\n",
        "        return right(array, [index[0], index[1]+1], max)\n",
        "    else:\n",
        "      return right(array, [index[0]+1, 0], max)\n",
        "  else:\n",
        "    return max"
      ],
      "execution_count": 0,
      "outputs": []
    },
    {
      "cell_type": "code",
      "metadata": {
        "id": "zZqq7yvLMs0A",
        "colab_type": "code",
        "colab": {}
      },
      "source": [
        "def down(array, index = [0, 0], max = 0):\n",
        "  if index[1] < 20:\n",
        "    if index[0] < 20:\n",
        "      prd = 1\n",
        "      for i in range(4):\n",
        "        prd *= array[(index[0]+i)%20][index[1]]\n",
        "      if prd > max:\n",
        "        #print(index)\n",
        "        return down(array, [index[0]+1, index[1]], prd)\n",
        "      else:\n",
        "        return down(array, [index[0]+1, index[1]], max)\n",
        "    else:\n",
        "      return down(array, [0, index[1]+1], max)\n",
        "  else:\n",
        "    return max"
      ],
      "execution_count": 0,
      "outputs": []
    },
    {
      "cell_type": "code",
      "metadata": {
        "id": "n5cUrRJDNM7l",
        "colab_type": "code",
        "colab": {}
      },
      "source": [
        "def diag_fwd(array, index = [0, 0], max = 0, flag = True):\n",
        "  if flag or not index == [0, 0]:\n",
        "    if index[0] < 20:\n",
        "      prd = 1\n",
        "      for i in range(4):\n",
        "        prd *= array[(index[0]+i)%20][(index[1]+i)%20]\n",
        "      if prd > max:\n",
        "        #print(index)\n",
        "        return diag_fwd(array, [index[0]+1, index[1]+1], prd, flag)\n",
        "      else:\n",
        "        return diag_fwd(array, [index[0]+1, index[1]+1], max, flag)\n",
        "    else:\n",
        "      return diag_fwd(array, [0, (index[1]-19)%20], max, False)\n",
        "  else:\n",
        "    return max"
      ],
      "execution_count": 0,
      "outputs": []
    },
    {
      "cell_type": "code",
      "metadata": {
        "id": "vnyOwjZN20rE",
        "colab_type": "code",
        "colab": {}
      },
      "source": [
        "def diag_bkd(array, index = [0, 0], max = 0, flag = True):\n",
        "  if flag or not index == [0, 0]:\n",
        "    if index[0] < 20:\n",
        "      prd = 1\n",
        "      for i in range(4):\n",
        "        prd *= array[(index[0]+i)%20][(index[1]-i)%20]\n",
        "      if prd > max:\n",
        "        #print(index)\n",
        "        return diag_bkd(array, [index[0]+1, index[1]-1], prd, flag)\n",
        "      else:\n",
        "        return diag_bkd(array, [index[0]+1, index[1]-1], max, flag)\n",
        "    else:\n",
        "      return diag_bkd(array, [0, (index[1]+19)%20], max, False)\n",
        "  else:\n",
        "    return max"
      ],
      "execution_count": 0,
      "outputs": []
    },
    {
      "cell_type": "code",
      "metadata": {
        "id": "HVHwsHBw4xNK",
        "colab_type": "code",
        "outputId": "762c756f-1cef-4d33-89e4-0768093d5b51",
        "colab": {
          "base_uri": "https://localhost:8080/",
          "height": 34
        }
      },
      "source": [
        "print(right(a_array), down(a_array), diag_fwd(a_array), diag_bkd(a_array))"
      ],
      "execution_count": 0,
      "outputs": [
        {
          "output_type": "stream",
          "text": [
            "48477312 51267216 40304286 70600674\n"
          ],
          "name": "stdout"
        }
      ]
    },
    {
      "cell_type": "code",
      "metadata": {
        "id": "oCN0U6JkR98-",
        "colab_type": "code",
        "outputId": "aabffa99-7229-49d5-e748-c8eb44d9ff17",
        "colab": {
          "base_uri": "https://localhost:8080/",
          "height": 34
        }
      },
      "source": [
        "print(max(right(a_array), down(a_array), diag_fwd(a_array), diag_bkd(a_array)))"
      ],
      "execution_count": 0,
      "outputs": [
        {
          "output_type": "stream",
          "text": [
            "70600674\n"
          ],
          "name": "stdout"
        }
      ]
    }
  ]
}