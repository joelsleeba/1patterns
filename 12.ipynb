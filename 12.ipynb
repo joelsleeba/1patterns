{
  "nbformat": 4,
  "nbformat_minor": 0,
  "metadata": {
    "colab": {
      "name": "12.ipynb",
      "provenance": [],
      "authorship_tag": "ABX9TyNf+Iqo9Mz4eF/ezAQCcSW4"
    },
    "kernelspec": {
      "name": "python3",
      "display_name": "Python 3"
    }
  },
  "cells": [
    {
      "cell_type": "code",
      "metadata": {
        "id": "R5tWznUGWI4a",
        "colab_type": "code",
        "colab": {}
      },
      "source": [
        "def factors(n):\n",
        "  from math import sqrt, ceil\n",
        "  count = 0\n",
        "  for i in range(1,ceil(sqrt(n))+1):\n",
        "    if n%i == 0:\n",
        "      count += 1\n",
        "  return 2*count+1"
      ],
      "execution_count": 0,
      "outputs": []
    },
    {
      "cell_type": "code",
      "metadata": {
        "id": "-jBFpR0jXa1F",
        "colab_type": "code",
        "colab": {}
      },
      "source": [
        "def trianglenumber(n):\n",
        "  return (n*(n+1))/2"
      ],
      "execution_count": 0,
      "outputs": []
    },
    {
      "cell_type": "code",
      "metadata": {
        "id": "C4u5fQ5bW7PY",
        "colab_type": "code",
        "colab": {}
      },
      "source": [
        "for i in range(1,1000000000):\n",
        "  number = int(trianglenumber(i))\n",
        "  factor = factors(number)\n",
        "  print(factor)\n",
        "  if factor>500:\n",
        "    print(number)\n",
        "    break"
      ],
      "execution_count": 0,
      "outputs": []
    }
  ]
}